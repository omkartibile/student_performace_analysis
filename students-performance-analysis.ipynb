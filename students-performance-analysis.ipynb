{
 "cells": [
  {
   "cell_type": "markdown",
   "id": "thousand-collect",
   "metadata": {
    "papermill": {
     "duration": 0.019135,
     "end_time": "2021-04-30T03:41:30.186428",
     "exception": false,
     "start_time": "2021-04-30T03:41:30.167293",
     "status": "completed"
    },
    "tags": []
   },
   "source": [
    "# Students Performance in Exams"
   ]
  },
  {
   "cell_type": "markdown",
   "id": "matched-modern",
   "metadata": {
    "papermill": {
     "duration": 0.016823,
     "end_time": "2021-04-30T03:41:30.222129",
     "exception": false,
     "start_time": "2021-04-30T03:41:30.205306",
     "status": "completed"
    },
    "tags": []
   },
   "source": [
    "To Analyse the performance of students based on the given variables"
   ]
  },
  {
   "cell_type": "code",
   "execution_count": 1,
   "id": "higher-horror",
   "metadata": {
    "execution": {
     "iopub.execute_input": "2021-04-30T03:41:30.265189Z",
     "iopub.status.busy": "2021-04-30T03:41:30.264570Z",
     "iopub.status.idle": "2021-04-30T03:41:31.362243Z",
     "shell.execute_reply": "2021-04-30T03:41:31.361410Z"
    },
    "papermill": {
     "duration": 1.122995,
     "end_time": "2021-04-30T03:41:31.362412",
     "exception": false,
     "start_time": "2021-04-30T03:41:30.239417",
     "status": "completed"
    },
    "tags": []
   },
   "outputs": [],
   "source": [
    "#Importing the library\n",
    "import pandas as pd\n",
    "import numpy as np\n",
    "import matplotlib.pyplot as plt\n",
    "%matplotlib inline\n",
    "import seaborn as sns\n",
    "import warnings\n",
    "warnings.filterwarnings(\"ignore\")"
   ]
  },
  {
   "cell_type": "code",
   "execution_count": 2,
   "id": "confidential-external",
   "metadata": {
    "execution": {
     "iopub.execute_input": "2021-04-30T03:41:31.404380Z",
     "iopub.status.busy": "2021-04-30T03:41:31.403709Z",
     "iopub.status.idle": "2021-04-30T03:41:31.435719Z",
     "shell.execute_reply": "2021-04-30T03:41:31.435044Z"
    },
    "papermill": {
     "duration": 0.054813,
     "end_time": "2021-04-30T03:41:31.435884",
     "exception": false,
     "start_time": "2021-04-30T03:41:31.381071",
     "status": "completed"
    },
    "tags": []
   },
   "outputs": [],
   "source": [
    "#Load student perfromance in exam data\n",
    "data=pd.read_csv(\"../input/students-performance-in-exams/StudentsPerformance.csv\")"
   ]
  },
  {
   "cell_type": "code",
   "execution_count": 3,
   "id": "pursuant-omaha",
   "metadata": {
    "execution": {
     "iopub.execute_input": "2021-04-30T03:41:31.478641Z",
     "iopub.status.busy": "2021-04-30T03:41:31.477857Z",
     "iopub.status.idle": "2021-04-30T03:41:31.482053Z",
     "shell.execute_reply": "2021-04-30T03:41:31.482560Z"
    },
    "papermill": {
     "duration": 0.029359,
     "end_time": "2021-04-30T03:41:31.482733",
     "exception": false,
     "start_time": "2021-04-30T03:41:31.453374",
     "status": "completed"
    },
    "tags": []
   },
   "outputs": [
    {
     "data": {
      "text/plain": [
       "(1000, 8)"
      ]
     },
     "execution_count": 3,
     "metadata": {},
     "output_type": "execute_result"
    }
   ],
   "source": [
    "#Identify the Shape of data\n",
    "data.shape"
   ]
  },
  {
   "cell_type": "code",
   "execution_count": 4,
   "id": "environmental-cleveland",
   "metadata": {
    "execution": {
     "iopub.execute_input": "2021-04-30T03:41:31.524912Z",
     "iopub.status.busy": "2021-04-30T03:41:31.524140Z",
     "iopub.status.idle": "2021-04-30T03:41:31.559035Z",
     "shell.execute_reply": "2021-04-30T03:41:31.558481Z"
    },
    "papermill": {
     "duration": 0.056549,
     "end_time": "2021-04-30T03:41:31.559203",
     "exception": false,
     "start_time": "2021-04-30T03:41:31.502654",
     "status": "completed"
    },
    "tags": []
   },
   "outputs": [
    {
     "data": {
      "text/html": [
       "<div>\n",
       "<style scoped>\n",
       "    .dataframe tbody tr th:only-of-type {\n",
       "        vertical-align: middle;\n",
       "    }\n",
       "\n",
       "    .dataframe tbody tr th {\n",
       "        vertical-align: top;\n",
       "    }\n",
       "\n",
       "    .dataframe thead th {\n",
       "        text-align: right;\n",
       "    }\n",
       "</style>\n",
       "<table border=\"1\" class=\"dataframe\">\n",
       "  <thead>\n",
       "    <tr style=\"text-align: right;\">\n",
       "      <th></th>\n",
       "      <th>gender</th>\n",
       "      <th>race/ethnicity</th>\n",
       "      <th>parental level of education</th>\n",
       "      <th>lunch</th>\n",
       "      <th>test preparation course</th>\n",
       "      <th>math score</th>\n",
       "      <th>reading score</th>\n",
       "      <th>writing score</th>\n",
       "    </tr>\n",
       "  </thead>\n",
       "  <tbody>\n",
       "    <tr>\n",
       "      <th>0</th>\n",
       "      <td>female</td>\n",
       "      <td>group B</td>\n",
       "      <td>bachelor's degree</td>\n",
       "      <td>standard</td>\n",
       "      <td>none</td>\n",
       "      <td>72</td>\n",
       "      <td>72</td>\n",
       "      <td>74</td>\n",
       "    </tr>\n",
       "    <tr>\n",
       "      <th>1</th>\n",
       "      <td>female</td>\n",
       "      <td>group C</td>\n",
       "      <td>some college</td>\n",
       "      <td>standard</td>\n",
       "      <td>completed</td>\n",
       "      <td>69</td>\n",
       "      <td>90</td>\n",
       "      <td>88</td>\n",
       "    </tr>\n",
       "    <tr>\n",
       "      <th>2</th>\n",
       "      <td>female</td>\n",
       "      <td>group B</td>\n",
       "      <td>master's degree</td>\n",
       "      <td>standard</td>\n",
       "      <td>none</td>\n",
       "      <td>90</td>\n",
       "      <td>95</td>\n",
       "      <td>93</td>\n",
       "    </tr>\n",
       "    <tr>\n",
       "      <th>3</th>\n",
       "      <td>male</td>\n",
       "      <td>group A</td>\n",
       "      <td>associate's degree</td>\n",
       "      <td>free/reduced</td>\n",
       "      <td>none</td>\n",
       "      <td>47</td>\n",
       "      <td>57</td>\n",
       "      <td>44</td>\n",
       "    </tr>\n",
       "    <tr>\n",
       "      <th>4</th>\n",
       "      <td>male</td>\n",
       "      <td>group C</td>\n",
       "      <td>some college</td>\n",
       "      <td>standard</td>\n",
       "      <td>none</td>\n",
       "      <td>76</td>\n",
       "      <td>78</td>\n",
       "      <td>75</td>\n",
       "    </tr>\n",
       "  </tbody>\n",
       "</table>\n",
       "</div>"
      ],
      "text/plain": [
       "   gender race/ethnicity parental level of education         lunch  \\\n",
       "0  female        group B           bachelor's degree      standard   \n",
       "1  female        group C                some college      standard   \n",
       "2  female        group B             master's degree      standard   \n",
       "3    male        group A          associate's degree  free/reduced   \n",
       "4    male        group C                some college      standard   \n",
       "\n",
       "  test preparation course  math score  reading score  writing score  \n",
       "0                    none          72             72             74  \n",
       "1               completed          69             90             88  \n",
       "2                    none          90             95             93  \n",
       "3                    none          47             57             44  \n",
       "4                    none          76             78             75  "
      ]
     },
     "execution_count": 4,
     "metadata": {},
     "output_type": "execute_result"
    }
   ],
   "source": [
    "#To know the content of data\n",
    "data.head()"
   ]
  },
  {
   "cell_type": "code",
   "execution_count": 5,
   "id": "persistent-strength",
   "metadata": {
    "execution": {
     "iopub.execute_input": "2021-04-30T03:41:31.605458Z",
     "iopub.status.busy": "2021-04-30T03:41:31.604767Z",
     "iopub.status.idle": "2021-04-30T03:41:31.609338Z",
     "shell.execute_reply": "2021-04-30T03:41:31.608700Z"
    },
    "papermill": {
     "duration": 0.031489,
     "end_time": "2021-04-30T03:41:31.609518",
     "exception": false,
     "start_time": "2021-04-30T03:41:31.578029",
     "status": "completed"
    },
    "tags": []
   },
   "outputs": [
    {
     "data": {
      "text/plain": [
       "0"
      ]
     },
     "execution_count": 5,
     "metadata": {},
     "output_type": "execute_result"
    }
   ],
   "source": [
    "#To check if there are any Na values in data?\n",
    "data.isna().sum().sum()\n"
   ]
  },
  {
   "cell_type": "code",
   "execution_count": 6,
   "id": "narrative-storage",
   "metadata": {
    "execution": {
     "iopub.execute_input": "2021-04-30T03:41:31.659218Z",
     "iopub.status.busy": "2021-04-30T03:41:31.654577Z",
     "iopub.status.idle": "2021-04-30T03:41:31.664582Z",
     "shell.execute_reply": "2021-04-30T03:41:31.663898Z"
    },
    "papermill": {
     "duration": 0.035919,
     "end_time": "2021-04-30T03:41:31.664732",
     "exception": false,
     "start_time": "2021-04-30T03:41:31.628813",
     "status": "completed"
    },
    "tags": []
   },
   "outputs": [
    {
     "data": {
      "text/plain": [
       "gender\n",
       "female    518\n",
       "male      482\n",
       "Name: gender, dtype: int64"
      ]
     },
     "execution_count": 6,
     "metadata": {},
     "output_type": "execute_result"
    }
   ],
   "source": [
    "#To get the count of male and female students in data?\n",
    "data.groupby('gender').gender.count()"
   ]
  },
  {
   "cell_type": "code",
   "execution_count": 7,
   "id": "regulation-trigger",
   "metadata": {
    "execution": {
     "iopub.execute_input": "2021-04-30T03:41:31.713124Z",
     "iopub.status.busy": "2021-04-30T03:41:31.712431Z",
     "iopub.status.idle": "2021-04-30T03:41:31.732311Z",
     "shell.execute_reply": "2021-04-30T03:41:31.732800Z"
    },
    "papermill": {
     "duration": 0.048606,
     "end_time": "2021-04-30T03:41:31.732985",
     "exception": false,
     "start_time": "2021-04-30T03:41:31.684379",
     "status": "completed"
    },
    "tags": []
   },
   "outputs": [
    {
     "data": {
      "text/html": [
       "<div>\n",
       "<style scoped>\n",
       "    .dataframe tbody tr th:only-of-type {\n",
       "        vertical-align: middle;\n",
       "    }\n",
       "\n",
       "    .dataframe tbody tr th {\n",
       "        vertical-align: top;\n",
       "    }\n",
       "\n",
       "    .dataframe thead th {\n",
       "        text-align: right;\n",
       "    }\n",
       "</style>\n",
       "<table border=\"1\" class=\"dataframe\">\n",
       "  <thead>\n",
       "    <tr style=\"text-align: right;\">\n",
       "      <th></th>\n",
       "      <th>math score</th>\n",
       "      <th>reading score</th>\n",
       "      <th>writing score</th>\n",
       "    </tr>\n",
       "  </thead>\n",
       "  <tbody>\n",
       "    <tr>\n",
       "      <th>count</th>\n",
       "      <td>1000.00000</td>\n",
       "      <td>1000.000000</td>\n",
       "      <td>1000.000000</td>\n",
       "    </tr>\n",
       "    <tr>\n",
       "      <th>mean</th>\n",
       "      <td>66.08900</td>\n",
       "      <td>69.169000</td>\n",
       "      <td>68.054000</td>\n",
       "    </tr>\n",
       "    <tr>\n",
       "      <th>std</th>\n",
       "      <td>15.16308</td>\n",
       "      <td>14.600192</td>\n",
       "      <td>15.195657</td>\n",
       "    </tr>\n",
       "    <tr>\n",
       "      <th>min</th>\n",
       "      <td>0.00000</td>\n",
       "      <td>17.000000</td>\n",
       "      <td>10.000000</td>\n",
       "    </tr>\n",
       "    <tr>\n",
       "      <th>25%</th>\n",
       "      <td>57.00000</td>\n",
       "      <td>59.000000</td>\n",
       "      <td>57.750000</td>\n",
       "    </tr>\n",
       "    <tr>\n",
       "      <th>50%</th>\n",
       "      <td>66.00000</td>\n",
       "      <td>70.000000</td>\n",
       "      <td>69.000000</td>\n",
       "    </tr>\n",
       "    <tr>\n",
       "      <th>75%</th>\n",
       "      <td>77.00000</td>\n",
       "      <td>79.000000</td>\n",
       "      <td>79.000000</td>\n",
       "    </tr>\n",
       "    <tr>\n",
       "      <th>max</th>\n",
       "      <td>100.00000</td>\n",
       "      <td>100.000000</td>\n",
       "      <td>100.000000</td>\n",
       "    </tr>\n",
       "  </tbody>\n",
       "</table>\n",
       "</div>"
      ],
      "text/plain": [
       "       math score  reading score  writing score\n",
       "count  1000.00000    1000.000000    1000.000000\n",
       "mean     66.08900      69.169000      68.054000\n",
       "std      15.16308      14.600192      15.195657\n",
       "min       0.00000      17.000000      10.000000\n",
       "25%      57.00000      59.000000      57.750000\n",
       "50%      66.00000      70.000000      69.000000\n",
       "75%      77.00000      79.000000      79.000000\n",
       "max     100.00000     100.000000     100.000000"
      ]
     },
     "execution_count": 7,
     "metadata": {},
     "output_type": "execute_result"
    }
   ],
   "source": [
    "#Get the detail summanry of math,reading and writing score\n",
    "data.describe()"
   ]
  },
  {
   "cell_type": "markdown",
   "id": "least-telling",
   "metadata": {
    "papermill": {
     "duration": 0.019714,
     "end_time": "2021-04-30T03:41:31.772909",
     "exception": false,
     "start_time": "2021-04-30T03:41:31.753195",
     "status": "completed"
    },
    "tags": []
   },
   "source": [
    "# Visualization\n",
    "\n"
   ]
  },
  {
   "cell_type": "markdown",
   "id": "suited-coordinator",
   "metadata": {
    "papermill": {
     "duration": 0.01965,
     "end_time": "2021-04-30T03:41:31.812861",
     "exception": false,
     "start_time": "2021-04-30T03:41:31.793211",
     "status": "completed"
    },
    "tags": []
   },
   "source": [
    "As we can see there are 3 continious varibales are given in the data.(That are math score,reading score,writing score). We will use histograms to check the distribution score."
   ]
  },
  {
   "cell_type": "code",
   "execution_count": 8,
   "id": "agricultural-brush",
   "metadata": {
    "execution": {
     "iopub.execute_input": "2021-04-30T03:41:31.857331Z",
     "iopub.status.busy": "2021-04-30T03:41:31.856351Z",
     "iopub.status.idle": "2021-04-30T03:41:32.115413Z",
     "shell.execute_reply": "2021-04-30T03:41:32.115931Z"
    },
    "papermill": {
     "duration": 0.283313,
     "end_time": "2021-04-30T03:41:32.116105",
     "exception": false,
     "start_time": "2021-04-30T03:41:31.832792",
     "status": "completed"
    },
    "tags": []
   },
   "outputs": [
    {
     "data": {
      "text/plain": [
       "<AxesSubplot:xlabel='math score', ylabel='Density'>"
      ]
     },
     "execution_count": 8,
     "metadata": {},
     "output_type": "execute_result"
    },
    {
     "data": {
      "image/png": "[encoded data removed]",
      "text/plain": [
       "<Figure size 432x288 with 1 Axes>"
      ]
     },
     "metadata": {
      "needs_background": "light"
     },
     "output_type": "display_data"
    }
   ],
   "source": [
    "#Histogram\n",
    "sns.kdeplot(data=data['math score'],label='math score',shade=True)\n",
    "sns.kdeplot(data=data['reading score'],label='reading score',shade=True)\n",
    "sns.kdeplot(data=data['writing score'],label='writing score',shade=True)"
   ]
  },
  {
   "cell_type": "markdown",
   "id": "personal-speech",
   "metadata": {
    "papermill": {
     "duration": 0.021348,
     "end_time": "2021-04-30T03:41:32.159276",
     "exception": false,
     "start_time": "2021-04-30T03:41:32.137928",
     "status": "completed"
    },
    "tags": []
   },
   "source": [
    "# Insights\n",
    "The above chart shows the distribution of math,reading and writing score. As we can see the data chart shows bell curve for the variables that means data is ditributed normally \n"
   ]
  },
  {
   "cell_type": "markdown",
   "id": "bulgarian-sensitivity",
   "metadata": {
    "papermill": {
     "duration": 0.022097,
     "end_time": "2021-04-30T03:41:32.203222",
     "exception": false,
     "start_time": "2021-04-30T03:41:32.181125",
     "status": "completed"
    },
    "tags": []
   },
   "source": [
    "# Analyze Students performance"
   ]
  },
  {
   "cell_type": "markdown",
   "id": "organizational-zealand",
   "metadata": {
    "papermill": {
     "duration": 0.021512,
     "end_time": "2021-04-30T03:41:32.248743",
     "exception": false,
     "start_time": "2021-04-30T03:41:32.227231",
     "status": "completed"
    },
    "tags": []
   },
   "source": [
    "We will add the new variable with name \"Average score\" to the data in order to analyse the effect of 'test preparation course' and 'lunch' on students scores\n",
    "\n"
   ]
  },
  {
   "cell_type": "code",
   "execution_count": 9,
   "id": "challenging-landscape",
   "metadata": {
    "execution": {
     "iopub.execute_input": "2021-04-30T03:41:32.301784Z",
     "iopub.status.busy": "2021-04-30T03:41:32.301023Z",
     "iopub.status.idle": "2021-04-30T03:41:32.303783Z",
     "shell.execute_reply": "2021-04-30T03:41:32.304279Z"
    },
    "papermill": {
     "duration": 0.033948,
     "end_time": "2021-04-30T03:41:32.304476",
     "exception": false,
     "start_time": "2021-04-30T03:41:32.270528",
     "status": "completed"
    },
    "tags": []
   },
   "outputs": [],
   "source": [
    "data['Average score']=data[['math score','writing score','reading score']].mean(axis=1).round()"
   ]
  },
  {
   "cell_type": "code",
   "execution_count": 10,
   "id": "rational-sussex",
   "metadata": {
    "execution": {
     "iopub.execute_input": "2021-04-30T03:41:32.364365Z",
     "iopub.status.busy": "2021-04-30T03:41:32.363415Z",
     "iopub.status.idle": "2021-04-30T03:41:32.368541Z",
     "shell.execute_reply": "2021-04-30T03:41:32.367785Z"
    },
    "papermill": {
     "duration": 0.042048,
     "end_time": "2021-04-30T03:41:32.368692",
     "exception": false,
     "start_time": "2021-04-30T03:41:32.326644",
     "status": "completed"
    },
    "tags": []
   },
   "outputs": [
    {
     "data": {
      "text/html": [
       "<div>\n",
       "<style scoped>\n",
       "    .dataframe tbody tr th:only-of-type {\n",
       "        vertical-align: middle;\n",
       "    }\n",
       "\n",
       "    .dataframe tbody tr th {\n",
       "        vertical-align: top;\n",
       "    }\n",
       "\n",
       "    .dataframe thead th {\n",
       "        text-align: right;\n",
       "    }\n",
       "</style>\n",
       "<table border=\"1\" class=\"dataframe\">\n",
       "  <thead>\n",
       "    <tr style=\"text-align: right;\">\n",
       "      <th></th>\n",
       "      <th>gender</th>\n",
       "      <th>race/ethnicity</th>\n",
       "      <th>parental level of education</th>\n",
       "      <th>lunch</th>\n",
       "      <th>test preparation course</th>\n",
       "      <th>math score</th>\n",
       "      <th>reading score</th>\n",
       "      <th>writing score</th>\n",
       "      <th>Average score</th>\n",
       "    </tr>\n",
       "  </thead>\n",
       "  <tbody>\n",
       "    <tr>\n",
       "      <th>0</th>\n",
       "      <td>female</td>\n",
       "      <td>group B</td>\n",
       "      <td>bachelor's degree</td>\n",
       "      <td>standard</td>\n",
       "      <td>none</td>\n",
       "      <td>72</td>\n",
       "      <td>72</td>\n",
       "      <td>74</td>\n",
       "      <td>73.0</td>\n",
       "    </tr>\n",
       "    <tr>\n",
       "      <th>1</th>\n",
       "      <td>female</td>\n",
       "      <td>group C</td>\n",
       "      <td>some college</td>\n",
       "      <td>standard</td>\n",
       "      <td>completed</td>\n",
       "      <td>69</td>\n",
       "      <td>90</td>\n",
       "      <td>88</td>\n",
       "      <td>82.0</td>\n",
       "    </tr>\n",
       "    <tr>\n",
       "      <th>2</th>\n",
       "      <td>female</td>\n",
       "      <td>group B</td>\n",
       "      <td>master's degree</td>\n",
       "      <td>standard</td>\n",
       "      <td>none</td>\n",
       "      <td>90</td>\n",
       "      <td>95</td>\n",
       "      <td>93</td>\n",
       "      <td>93.0</td>\n",
       "    </tr>\n",
       "    <tr>\n",
       "      <th>3</th>\n",
       "      <td>male</td>\n",
       "      <td>group A</td>\n",
       "      <td>associate's degree</td>\n",
       "      <td>free/reduced</td>\n",
       "      <td>none</td>\n",
       "      <td>47</td>\n",
       "      <td>57</td>\n",
       "      <td>44</td>\n",
       "      <td>49.0</td>\n",
       "    </tr>\n",
       "    <tr>\n",
       "      <th>4</th>\n",
       "      <td>male</td>\n",
       "      <td>group C</td>\n",
       "      <td>some college</td>\n",
       "      <td>standard</td>\n",
       "      <td>none</td>\n",
       "      <td>76</td>\n",
       "      <td>78</td>\n",
       "      <td>75</td>\n",
       "      <td>76.0</td>\n",
       "    </tr>\n",
       "  </tbody>\n",
       "</table>\n",
       "</div>"
      ],
      "text/plain": [
       "   gender race/ethnicity parental level of education         lunch  \\\n",
       "0  female        group B           bachelor's degree      standard   \n",
       "1  female        group C                some college      standard   \n",
       "2  female        group B             master's degree      standard   \n",
       "3    male        group A          associate's degree  free/reduced   \n",
       "4    male        group C                some college      standard   \n",
       "\n",
       "  test preparation course  math score  reading score  writing score  \\\n",
       "0                    none          72             72             74   \n",
       "1               completed          69             90             88   \n",
       "2                    none          90             95             93   \n",
       "3                    none          47             57             44   \n",
       "4                    none          76             78             75   \n",
       "\n",
       "   Average score  \n",
       "0           73.0  \n",
       "1           82.0  \n",
       "2           93.0  \n",
       "3           49.0  \n",
       "4           76.0  "
      ]
     },
     "execution_count": 10,
     "metadata": {},
     "output_type": "execute_result"
    }
   ],
   "source": [
    "data.head()"
   ]
  },
  {
   "cell_type": "markdown",
   "id": "distant-canadian",
   "metadata": {
    "papermill": {
     "duration": 0.022228,
     "end_time": "2021-04-30T03:41:32.413651",
     "exception": false,
     "start_time": "2021-04-30T03:41:32.391423",
     "status": "completed"
    },
    "tags": []
   },
   "source": [
    "1. Measure the impact of test preparaiton course completion on students score"
   ]
  },
  {
   "cell_type": "code",
   "execution_count": 11,
   "id": "loaded-finger",
   "metadata": {
    "execution": {
     "iopub.execute_input": "2021-04-30T03:41:32.465564Z",
     "iopub.status.busy": "2021-04-30T03:41:32.464332Z",
     "iopub.status.idle": "2021-04-30T03:41:32.469126Z",
     "shell.execute_reply": "2021-04-30T03:41:32.468469Z"
    },
    "papermill": {
     "duration": 0.033212,
     "end_time": "2021-04-30T03:41:32.469277",
     "exception": false,
     "start_time": "2021-04-30T03:41:32.436065",
     "status": "completed"
    },
    "tags": []
   },
   "outputs": [
    {
     "data": {
      "text/plain": [
       "Index(['gender', 'race/ethnicity', 'parental level of education', 'lunch',\n",
       "       'test preparation course', 'math score', 'reading score',\n",
       "       'writing score', 'Average score'],\n",
       "      dtype='object')"
      ]
     },
     "execution_count": 11,
     "metadata": {},
     "output_type": "execute_result"
    }
   ],
   "source": [
    "data.columns"
   ]
  },
  {
   "cell_type": "code",
   "execution_count": 12,
   "id": "naval-standard",
   "metadata": {
    "execution": {
     "iopub.execute_input": "2021-04-30T03:41:32.520911Z",
     "iopub.status.busy": "2021-04-30T03:41:32.520030Z",
     "iopub.status.idle": "2021-04-30T03:41:32.524014Z",
     "shell.execute_reply": "2021-04-30T03:41:32.523320Z"
    },
    "papermill": {
     "duration": 0.031526,
     "end_time": "2021-04-30T03:41:32.524178",
     "exception": false,
     "start_time": "2021-04-30T03:41:32.492652",
     "status": "completed"
    },
    "tags": []
   },
   "outputs": [],
   "source": [
    "feature=['math score', 'reading score',\n",
    "       'writing score', 'Average score']"
   ]
  },
  {
   "cell_type": "code",
   "execution_count": 13,
   "id": "sought-yorkshire",
   "metadata": {
    "execution": {
     "iopub.execute_input": "2021-04-30T03:41:32.576466Z",
     "iopub.status.busy": "2021-04-30T03:41:32.575712Z",
     "iopub.status.idle": "2021-04-30T03:41:32.579717Z",
     "shell.execute_reply": "2021-04-30T03:41:32.579055Z"
    },
    "papermill": {
     "duration": 0.03261,
     "end_time": "2021-04-30T03:41:32.579871",
     "exception": false,
     "start_time": "2021-04-30T03:41:32.547261",
     "status": "completed"
    },
    "tags": []
   },
   "outputs": [
    {
     "data": {
      "text/plain": [
       "[(0, 'math score'),\n",
       " (1, 'reading score'),\n",
       " (2, 'writing score'),\n",
       " (3, 'Average score')]"
      ]
     },
     "execution_count": 13,
     "metadata": {},
     "output_type": "execute_result"
    }
   ],
   "source": [
    "list(enumerate(feature))"
   ]
  },
  {
   "cell_type": "code",
   "execution_count": 14,
   "id": "civic-opera",
   "metadata": {
    "execution": {
     "iopub.execute_input": "2021-04-30T03:41:32.648018Z",
     "iopub.status.busy": "2021-04-30T03:41:32.633995Z",
     "iopub.status.idle": "2021-04-30T03:41:33.426894Z",
     "shell.execute_reply": "2021-04-30T03:41:33.426194Z"
    },
    "papermill": {
     "duration": 0.823438,
     "end_time": "2021-04-30T03:41:33.427039",
     "exception": false,
     "start_time": "2021-04-30T03:41:32.603601",
     "status": "completed"
    },
    "tags": []
   },
   "outputs": [
    {
     "data": {
      "image/png": "[encoded data removed]",
      "text/plain": [
       "<Figure size 1296x720 with 4 Axes>"
      ]
     },
     "metadata": {
      "needs_background": "light"
     },
     "output_type": "display_data"
    }
   ],
   "source": [
    "plt.figure(figsize=(18,10))\n",
    "for i in enumerate(feature):\n",
    "    plt.subplot(2,2,i[0]+1)\n",
    "    sns.barplot(i[1],y=\"test preparation course\",data=data)"
   ]
  },
  {
   "cell_type": "markdown",
   "id": "incorporate-liberal",
   "metadata": {
    "papermill": {
     "duration": 0.024744,
     "end_time": "2021-04-30T03:41:33.476725",
     "exception": false,
     "start_time": "2021-04-30T03:41:33.451981",
     "status": "completed"
    },
    "tags": []
   },
   "source": [
    "#Students who have completed the test preparation course have scored more than those who have not completed the course.\n",
    "#This indicates that test score completion affectes positively on the students score"
   ]
  },
  {
   "cell_type": "markdown",
   "id": "opening-parking",
   "metadata": {
    "papermill": {
     "duration": 0.024608,
     "end_time": "2021-04-30T03:41:33.526143",
     "exception": false,
     "start_time": "2021-04-30T03:41:33.501535",
     "status": "completed"
    },
    "tags": []
   },
   "source": [
    "2.Measure the impact of lunch on the students score"
   ]
  },
  {
   "cell_type": "code",
   "execution_count": 15,
   "id": "democratic-spice",
   "metadata": {
    "execution": {
     "iopub.execute_input": "2021-04-30T03:41:33.600178Z",
     "iopub.status.busy": "2021-04-30T03:41:33.597479Z",
     "iopub.status.idle": "2021-04-30T03:41:34.331127Z",
     "shell.execute_reply": "2021-04-30T03:41:34.330469Z"
    },
    "papermill": {
     "duration": 0.780129,
     "end_time": "2021-04-30T03:41:34.331271",
     "exception": false,
     "start_time": "2021-04-30T03:41:33.551142",
     "status": "completed"
    },
    "tags": []
   },
   "outputs": [
    {
     "data": {
      "image/png": "[encoded data removed]",
      "text/plain": [
       "<Figure size 1296x720 with 4 Axes>"
      ]
     },
     "metadata": {
      "needs_background": "light"
     },
     "output_type": "display_data"
    }
   ],
   "source": [
    "plt.figure(figsize=(18,10))\n",
    "for i in enumerate(feature):\n",
    "    plt.subplot(2,2,i[0]+1)\n",
    "    sns.barplot(i[1],y=\"lunch\",data=data)"
   ]
  },
  {
   "cell_type": "markdown",
   "id": "expired-rebound",
   "metadata": {
    "papermill": {
     "duration": 0.025478,
     "end_time": "2021-04-30T03:41:34.383105",
     "exception": false,
     "start_time": "2021-04-30T03:41:34.357627",
     "status": "completed"
    },
    "tags": []
   },
   "source": [
    "students who are following the standard luch process have scored more marks campare to the marks of students who are following free/reduced lunch process"
   ]
  },
  {
   "cell_type": "markdown",
   "id": "reasonable-naples",
   "metadata": {
    "papermill": {
     "duration": 0.025686,
     "end_time": "2021-04-30T03:41:34.434858",
     "exception": false,
     "start_time": "2021-04-30T03:41:34.409172",
     "status": "completed"
    },
    "tags": []
   },
   "source": [
    "This shows that standard luch process affects positively on students score"
   ]
  },
  {
   "cell_type": "markdown",
   "id": "varied-memory",
   "metadata": {
    "papermill": {
     "duration": 0.025836,
     "end_time": "2021-04-30T03:41:34.486870",
     "exception": false,
     "start_time": "2021-04-30T03:41:34.461034",
     "status": "completed"
    },
    "tags": []
   },
   "source": [
    "# Some other Visulaization graph"
   ]
  },
  {
   "cell_type": "code",
   "execution_count": 16,
   "id": "nonprofit-hungarian",
   "metadata": {
    "execution": {
     "iopub.execute_input": "2021-04-30T03:41:34.564551Z",
     "iopub.status.busy": "2021-04-30T03:41:34.563073Z",
     "iopub.status.idle": "2021-04-30T03:41:34.812699Z",
     "shell.execute_reply": "2021-04-30T03:41:34.813295Z"
    },
    "papermill": {
     "duration": 0.300628,
     "end_time": "2021-04-30T03:41:34.813518",
     "exception": false,
     "start_time": "2021-04-30T03:41:34.512890",
     "status": "completed"
    },
    "tags": []
   },
   "outputs": [
    {
     "data": {
      "image/png": "[encoded data removed]",
      "text/plain": [
       "<Figure size 720x360 with 2 Axes>"
      ]
     },
     "metadata": {
      "needs_background": "light"
     },
     "output_type": "display_data"
    }
   ],
   "source": [
    "#Check the correlation between variables using heatmap\n",
    "plt.figure(figsize=(10,5))\n",
    "ax=sns.heatmap(data.corr(),annot=True)"
   ]
  }
 ],
 "metadata": {
  "kernelspec": {
   "display_name": "Python 3",
   "language": "python",
   "name": "python3"
  },
  "language_info": {
   "codemirror_mode": {
    "name": "ipython",
    "version": 3
   },
   "file_extension": ".py",
   "mimetype": "text/x-python",
   "name": "python",
   "nbconvert_exporter": "python",
   "pygments_lexer": "ipython3",
   "version": "3.7.9"
  },
  "papermill": {
   "default_parameters": {},
   "duration": 12.322177,
   "end_time": "2021-04-30T03:41:35.551610",
   "environment_variables": {},
   "exception": null,
   "input_path": "__notebook__.ipynb",
   "output_path": "__notebook__.ipynb",
   "parameters": {},
   "start_time": "2021-04-30T03:41:23.229433",
   "version": "2.3.2"
  }
 },
 "nbformat": 4,
 "nbformat_minor": 5
}
